{
 "cells": [
  {
   "cell_type": "code",
   "execution_count": 1,
   "metadata": {},
   "outputs": [
    {
     "data": {
      "text/plain": [
       "293"
      ]
     },
     "execution_count": 1,
     "metadata": {},
     "output_type": "execute_result"
    }
   ],
   "source": [
    "sum([2, 1, 1, 2, 2, 5, 4, 3, 5, 3, 4, 3, 3, 1, 5, 1, 3, 5, 4, 4, 5, 1, 2, 3, 2, 5, 1, 3, 3, 4, 2, 1, 5, 4, 4, 2, 1, 1, 5, 5, 3, 5, 2, 2, 2, 3, 4, 3, 3, 2, 3, 2, 1, 4, 2, 2, 5, 4, 2, 2, 2, 5, 3, 2, 4, 3, 5, 1, 4, 4, 3, 5, 4, 2, 3, 4, 4, 4, 2, 4, 4, 1, 1, 4, 3, 2, 4, 3, 2, 5, 1, 1, 3, 2, 5, 3, 1, 1, 2, 1])"
   ]
  },
  {
   "cell_type": "code",
   "execution_count": null,
   "metadata": {},
   "outputs": [],
   "source": [
    "# Modify these parts in the __init__ method:\n",
    "\n",
    "# Update the style configurations\n",
    "style = ttk.Style()\n",
    "style.theme_use('clam')\n",
    "style.configure('Custom.TFrame', background='#323232')\n",
    "style.configure('Custom.TLabelframe', background='#323232', foreground='#E0E0E0')\n",
    "style.configure('Custom.TLabelframe.Label', foreground='#E0E0E0', background='#323232')\n",
    "style.configure('Run.TButton', \n",
    "            padding=10, \n",
    "            font=('Arial', 10, 'bold'),\n",
    "            background='#C3D825')\n",
    "style.configure('TLabel', foreground='#E0E0E0', background='#323232')\n",
    "style.configure('TEntry', fieldbackground='#404040', foreground='#E0E0E0')\n",
    "\n",
    "# Update the frames with the new style\n",
    "left_frame = ttk.LabelFrame(main_frame, text=\"Parameters\", \n",
    "                          padding=\"15\",\n",
    "                          style='Custom.TLabelframe')\n",
    "\n",
    "right_frame = ttk.LabelFrame(main_frame, text=\"Results\", \n",
    "                           padding=\"15\",\n",
    "                           style='Custom.TLabelframe')\n",
    "\n",
    "# Update the output text widget colors\n",
    "self.output = tk.Text(right_frame, \n",
    "            height=50, \n",
    "            width=80,\n",
    "            font=('Consolas', 10),\n",
    "            bg='#404040',  # Darker background for better contrast\n",
    "            fg='#E0E0E0',  # Light gray text\n",
    "            insertbackground='#E0E0E0',  # Cursor color\n",
    "            selectbackground='#666666',  # Selection background\n",
    "            selectforeground='#FFFFFF',  # Selection text color\n",
    "            wrap=tk.WORD,\n",
    "            border=1,\n",
    "            relief=tk.SOLID)\n",
    "\n",
    "# Update status bar style\n",
    "status_bar = ttk.Label(main_frame, \n",
    "                     textvariable=self.status_var,\n",
    "                     relief=tk.SOLID,\n",
    "                     style='TLabel',\n",
    "                     anchor=tk.W)\n"
   ]
  },
  {
   "cell_type": "code",
   "execution_count": null,
   "metadata": {},
   "outputs": [],
   "source": [
    "# Update the master configuration\n",
    "self.master.configure(bg='#323232')\n",
    "\n",
    "# Update the title label color\n",
    "title_label = ttk.Label(main_frame, \n",
    "                       text=\"Aladdin's Backpack Optimizer\",\n",
    "                       font=('Arial', 16, 'bold'),\n",
    "                       foreground='#C3D825',\n",
    "                       background='#323232')"
   ]
  },
  {
   "cell_type": "code",
   "execution_count": null,
   "metadata": {},
   "outputs": [],
   "source": [
    "\n",
    "\n",
    "# Update the output text widget colors\n",
    "self.output = tk.Text(right_frame, \n",
    "                    height=50, \n",
    "                    width=80,\n",
    "                    font=('Consolas', 10),\n",
    "                    bg='#323232',\n",
    "                    fg='#C3D825',\n",
    "                    wrap=tk.WORD)\n"
   ]
  }
 ],
 "metadata": {
  "kernelspec": {
   "display_name": "Python 3",
   "language": "python",
   "name": "python3"
  },
  "language_info": {
   "codemirror_mode": {
    "name": "ipython",
    "version": 3
   },
   "file_extension": ".py",
   "mimetype": "text/x-python",
   "name": "python",
   "nbconvert_exporter": "python",
   "pygments_lexer": "ipython3",
   "version": "3.10.6"
  }
 },
 "nbformat": 4,
 "nbformat_minor": 2
}
